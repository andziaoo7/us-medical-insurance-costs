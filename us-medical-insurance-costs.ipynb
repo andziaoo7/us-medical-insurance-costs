{
 "cells": [
  {
   "cell_type": "markdown",
   "metadata": {},
   "source": [
    "# U.S. Medical Insurance Costs"
   ]
  },
  {
   "cell_type": "markdown",
   "metadata": {},
   "source": [
    "# 1. Introduction\n",
    "\n",
    "This project is part of a codecademy course I am taking. During this task I will perform research on medical insurance cost datatset that is from Kaggle website. The main purpose of this project is to use new skills that I've learned so far, which is Python fundamentals and csv library. But since I want to present my data in a nice way I will not limit myself and will use matplotlib, pandas seaborn and numpy for data visualization.\n",
    "\n",
    "During this project I would like to investigate what factors are responisble for increasing medical insurance costs in the United States."
   ]
  },
  {
   "cell_type": "markdown",
   "metadata": {},
   "source": [
    "# 2. Explore data\n",
    "\n",
    "Firstly, let's see what data do we have in insurance.csv file. As I wrote in Introduction section this dataset can be found on Kaggle website. The dataset includes data from 1138 patients. It is important to mention that all patients are from United States.\n",
    "File consists of 7 columns, each representing different information about patient:\n",
    "1. Age - age of patient presented as integer value,\n",
    "2. Sex - sex of patient with values male or female,\n",
    "3. BMI - patient's BMI value presented as float value\n",
    "4. Children - the amount of children that patient has, presented as integer value\n",
    "5. Somker - information if patient is smoker or not (boolean value - yes / no),\n",
    "6. Region - region that patient is living in, string value\n",
    "7. Charges - yearly value of patient's medical insurance cost.\n",
    "\n",
    "Additionally the file has no missing data. Each category has correct values. There are no typos or issues with data. The dataset is clean and I can start exploring it."
   ]
  },
  {
   "cell_type": "markdown",
   "metadata": {},
   "source": [
    "## 2.1 Basic setup of data\n",
    "\n",
    "Before I start data analysis I need to import all necessary libraries that I will be using during this project. Since this is my first project and for now I've been learning only basic stuff such as Python and csv library I will use them here a lot. But it doesn't mean that I will not use something beyond project requirements - for visualization I will try to use libraries that I haven't learn so far during this course."
   ]
  },
  {
   "cell_type": "code",
   "execution_count": 32,
   "metadata": {},
   "outputs": [],
   "source": [
    "# import necessary libraries\n",
    "import csv\n",
    "import matplotlib.pyplot as plt\n",
    "import pandas as pd\n",
    "import seaborn as sns\n",
    "import numpy as np"
   ]
  },
  {
   "cell_type": "markdown",
   "metadata": {},
   "source": [
    "Now, I have to import data from insurance.csv file. To make it easier to investigate I will store values from each column in separated list. "
   ]
  },
  {
   "cell_type": "code",
   "execution_count": 2,
   "metadata": {},
   "outputs": [],
   "source": [
    "#create empty lists that will store values from each column\n",
    "ages = []\n",
    "sexes = []\n",
    "bmis = []\n",
    "children_amount = []\n",
    "smoker_statuses = []\n",
    "regions = []\n",
    "insurance_costs = []"
   ]
  },
  {
   "cell_type": "markdown",
   "metadata": {},
   "source": [
    "To load data from insurance.csv file into each of the list above I need to create a function that will take care of this. The main purpose of this function will be to get 3 parameters:\n",
    "1. csv_file - dataset from which I will get the data,\n",
    "2. column_name - column name from csv file that stores values,\n",
    "3. new_list - list to which each value from certain column will be appended,"
   ]
  },
  {
   "cell_type": "code",
   "execution_count": 3,
   "metadata": {},
   "outputs": [],
   "source": [
    "type_converters = {\n",
    "    \"integer\": int,\n",
    "    \"float\": float,\n",
    "    \"string\": str\n",
    "}\n",
    "\n",
    "def load_data_from_list(column_name, value_type):\n",
    "    with open('insurance.csv') as csv_file:\n",
    "        new_list = []\n",
    "        file_dict = csv.DictReader(csv_file)\n",
    "        for row in file_dict:\n",
    "            value = row[column_name]\n",
    "            converted_value = type_converters[value_type](value)\n",
    "            new_list.append(converted_value)\n",
    "        return new_list"
   ]
  },
  {
   "cell_type": "code",
   "execution_count": 4,
   "metadata": {},
   "outputs": [],
   "source": [
    "# invoke load_data_from_list() and assign values from csv file into separate lists\n",
    "ages = load_data_from_list('age', 'integer')\n",
    "sexes = load_data_from_list('sex', 'string')\n",
    "bmis = load_data_from_list('bmi', 'float')\n",
    "children_amount = load_data_from_list('children', 'integer')\n",
    "smoker_statuses = load_data_from_list('smoker', 'string')\n",
    "regions = load_data_from_list('region', 'string')\n",
    "insurance_costs = load_data_from_list('charges', 'float')"
   ]
  },
  {
   "cell_type": "markdown",
   "metadata": {},
   "source": [
    "The data has been grouped by 1 of the 7 categories (meaning by each column from csv file). Now I can check what is the total amount of patients, which will help me later to calculate the average values. To get that information I will create function that will return value and store it in variable called patients_amount."
   ]
  },
  {
   "cell_type": "code",
   "execution_count": 5,
   "metadata": {},
   "outputs": [],
   "source": [
    "# function that counts amount of rows in insurance.csv file, while each row represents single patient\n",
    "def get_total_patients_amount():\n",
    "    total_count = 0\n",
    "    with open('insurance.csv') as csv_file:\n",
    "        file_dict = csv.DictReader(csv_file)\n",
    "        for row in file_dict:\n",
    "            total_count += 1\n",
    "        return total_count"
   ]
  },
  {
   "cell_type": "code",
   "execution_count": 6,
   "metadata": {},
   "outputs": [
    {
     "name": "stdout",
     "output_type": "stream",
     "text": [
      "The total number of patients is: 1338\n"
     ]
    }
   ],
   "source": [
    "patients_amount = get_total_patients_amount()\n",
    "print(\"The total number of patients is: \" + str(patients_amount))"
   ]
  },
  {
   "cell_type": "markdown",
   "metadata": {},
   "source": [
    "## 2.1 Check if dataset is representative"
   ]
  },
  {
   "cell_type": "markdown",
   "metadata": {},
   "source": [
    "Now it's time to check if dataset is representative among population.\n",
    "To do that I will check:\n",
    "1. check the average age of a patient (sprawdzić czy tak to powinno być napisane)\n",
    "2. if the amount between female and male patients are equal? (equal czy bardziej że jest zbliżona do siebie?)\n",
    "3. if the amount of patients from each region is similar?"
   ]
  },
  {
   "cell_type": "markdown",
   "metadata": {},
   "source": [
    "### 2.1.1 Check the average age of a patient"
   ]
  },
  {
   "cell_type": "markdown",
   "metadata": {},
   "source": [
    "The average age of a patient is the first thing that has to be checked. This information is important because based on it I can see if the dataset has wide range of patient's age. If the dataset would have only range between patients that are 20-30 years old it wouldn't be representative because other groups of patients with different ages would be left over. That would lead me to get wrong conclusions from analysis and even more to make wrong business decisions based on that data.\n",
    "\n",
    "To get the average age of a patient I will create function called get_average_age()."
   ]
  },
  {
   "cell_type": "code",
   "execution_count": 7,
   "metadata": {},
   "outputs": [],
   "source": [
    "# function that returns information about average age of a patient from dataset\n",
    "def get_average_age():\n",
    "    total_age = 0\n",
    "    for age in ages:\n",
    "        total_age += int(age)\n",
    "    return round(total_age/len(ages), 2)"
   ]
  },
  {
   "cell_type": "code",
   "execution_count": 8,
   "metadata": {},
   "outputs": [
    {
     "name": "stdout",
     "output_type": "stream",
     "text": [
      "Average patient age: 39.21 years.\n"
     ]
    }
   ],
   "source": [
    "average_age = get_average_age()\n",
    "print(\"Average patient age: \" + str(average_age) + \" years.\")"
   ]
  },
  {
   "cell_type": "markdown",
   "metadata": {},
   "source": [
    "To see how age of patients is distributed I will create histogram using matplotlib."
   ]
  },
  {
   "cell_type": "code",
   "execution_count": 9,
   "metadata": {},
   "outputs": [
    {
     "data": {
      "image/png": "[encoded data removed]",
      "text/plain": [
       "<Figure size 640x480 with 1 Axes>"
      ]
     },
     "metadata": {},
     "output_type": "display_data"
    }
   ],
   "source": [
    "bins = [10, 20, 30, 40, 50, 60, 70, 80]\n",
    "\n",
    "plt.hist(ages, bins = bins, edgecolor='white')\n",
    "plt.axvline(average_age, color='red', label=\"Average Age\")\n",
    "plt.xlabel(\"Age\")\n",
    "plt.ylabel(\"Patients\")\n",
    "plt.title(\"Age distribution of patients\")\n",
    "\n",
    "ax = plt.subplot()\n",
    "ax.set_xticks([0, 10, 20, 30, 40, 50, 60, 70, 80])\n",
    "ax.set_yticks([0, 100, 200, 300, 400])\n",
    "\n",
    "plt.legend()\n",
    "plt.show()"
   ]
  },
  {
   "cell_type": "markdown",
   "metadata": {},
   "source": [
    "The above histogram shows that the age is evenly distributed throughout the entire range. Furthermore the average age data is placed almost in the middle of histogram which proves that the patients' age data is representative."
   ]
  },
  {
   "cell_type": "markdown",
   "metadata": {},
   "source": [
    "### 2.1.2 Check the amount of male and female patients"
   ]
  },
  {
   "cell_type": "markdown",
   "metadata": {},
   "source": [
    "Another aspect to check is percentage of male vs female patients in dataset. To check this I will write functions that will calculate the amount of patients per sex. Having that information I will be able to get percentage values and present it on pie chart."
   ]
  },
  {
   "cell_type": "code",
   "execution_count": 10,
   "metadata": {},
   "outputs": [],
   "source": [
    "# function that returns amount of patients per sex\n",
    "def get_patients_amount_per_sex(patient_sex):\n",
    "    counter = 0\n",
    "    for sex in sexes:\n",
    "        if sex == patient_sex:\n",
    "            counter += 1\n",
    "        else:\n",
    "            continue\n",
    "    return counter"
   ]
  },
  {
   "cell_type": "code",
   "execution_count": 11,
   "metadata": {},
   "outputs": [
    {
     "name": "stdout",
     "output_type": "stream",
     "text": [
      "Female patients amount: 662\n",
      "Male patients amount: 676\n"
     ]
    }
   ],
   "source": [
    "# store amount of patients per sex in dedicated variables\n",
    "females_amount = get_patients_amount_per_sex('female')\n",
    "males_amount = get_patients_amount_per_sex('male')\n",
    "\n",
    "print(\"Female patients amount: \" + str(females_amount))\n",
    "print(\"Male patients amount: \" + str(males_amount))"
   ]
  },
  {
   "cell_type": "code",
   "execution_count": 12,
   "metadata": {},
   "outputs": [
    {
     "data": {
      "text/plain": [
       "([<matplotlib.patches.Wedge at 0x201bf8d16d0>,\n",
       "  <matplotlib.patches.Wedge at 0x201bf8d1df0>],\n",
       " [Text(0.01807856899700512, 1.0998514287589123, 'Females'),\n",
       "  Text(-0.018078568997005745, -1.0998514287589123, 'Males')],\n",
       " [Text(0.009861037634730065, 0.5999189611412249, '49.5%'),\n",
       "  Text(-0.009861037634730405, -0.5999189611412248, '50.5%')])"
      ]
     },
     "execution_count": 12,
     "metadata": {},
     "output_type": "execute_result"
    },
    {
     "data": {
      "image/png": "[encoded data removed]",
      "text/plain": [
       "<Figure size 640x480 with 1 Axes>"
      ]
     },
     "metadata": {},
     "output_type": "display_data"
    }
   ],
   "source": [
    "# setting data for pie chart\n",
    "labels = 'Females', 'Males'\n",
    "sizes = [females_amount, males_amount]\n",
    "\n",
    "fig, ax = plt.subplots()\n",
    "ax.pie(sizes, labels=labels, autopct='%1.1f%%')"
   ]
  },
  {
   "cell_type": "markdown",
   "metadata": {},
   "source": [
    "On the above pie chart we can see that there are 50,5% of male patients and 49,5% of female patients. The difference between sexes is only 1% which means that the dataset is representative when it comes to patients' sex."
   ]
  },
  {
   "cell_type": "markdown",
   "metadata": {},
   "source": [
    "### 2.1.3 Check the amount of patients from each region"
   ]
  },
  {
   "cell_type": "markdown",
   "metadata": {},
   "source": [
    "Last thing that I will check is the distribution of patients from perspective of patients' regions. To check that I will write function that will return all available regions that are in dataset."
   ]
  },
  {
   "cell_type": "code",
   "execution_count": 13,
   "metadata": {},
   "outputs": [],
   "source": [
    "def get_regions():\n",
    "    all_regions = []\n",
    "    for region in regions:\n",
    "        if region not in all_regions:\n",
    "            all_regions.append(region)\n",
    "    return all_regions"
   ]
  },
  {
   "cell_type": "code",
   "execution_count": 14,
   "metadata": {},
   "outputs": [
    {
     "name": "stdout",
     "output_type": "stream",
     "text": [
      "There are 4 regions in dataset:\n",
      "['southwest', 'southeast', 'northwest', 'northeast']\n"
     ]
    }
   ],
   "source": [
    "patients_regions = get_regions()\n",
    "print(\"There are \" + str(len(patients_regions)) + \" regions in dataset:\")\n",
    "print(patients_regions)"
   ]
  },
  {
   "cell_type": "markdown",
   "metadata": {},
   "source": [
    "Now let's calculate how many patients are from each region."
   ]
  },
  {
   "cell_type": "code",
   "execution_count": 15,
   "metadata": {},
   "outputs": [],
   "source": [
    "# function that returns amount of patients per region\n",
    "def get_patients_amount_per_region(patient_region):\n",
    "    counter = 0\n",
    "    for region in regions:\n",
    "        if region == patient_region:\n",
    "            counter += 1\n",
    "        else:\n",
    "            continue\n",
    "    return counter"
   ]
  },
  {
   "cell_type": "code",
   "execution_count": 16,
   "metadata": {},
   "outputs": [
    {
     "name": "stdout",
     "output_type": "stream",
     "text": [
      "Southwest patients amount: 325\n",
      "Southeast patients amount: 364\n",
      "Northwest patients amount: 325\n",
      "Northeast patients amount: 324\n"
     ]
    }
   ],
   "source": [
    "# store amount of patients per regions in dedicated variables\n",
    "southwest_patients_amount = get_patients_amount_per_region('southwest')\n",
    "southeast_patients_amount = get_patients_amount_per_region('southeast')\n",
    "northwest_patients_amount = get_patients_amount_per_region('northwest')\n",
    "northeast_patients_amount = get_patients_amount_per_region('northeast')\n",
    "\n",
    "print(\"Southwest patients amount: \" + str(southwest_patients_amount))\n",
    "print(\"Southeast patients amount: \" + str(southeast_patients_amount))\n",
    "print(\"Northwest patients amount: \" + str(northwest_patients_amount))\n",
    "print(\"Northeast patients amount: \" + str(northeast_patients_amount))"
   ]
  },
  {
   "cell_type": "markdown",
   "metadata": {},
   "source": [
    "There are slightly more patients from Southeast region comparing to other regions. Let's check how it will present on pie chart with percentage values."
   ]
  },
  {
   "cell_type": "code",
   "execution_count": 17,
   "metadata": {},
   "outputs": [
    {
     "data": {
      "text/plain": [
       "([<matplotlib.patches.Wedge at 0x201bf928df0>,\n",
       "  <matplotlib.patches.Wedge at 0x201bf935550>,\n",
       "  <matplotlib.patches.Wedge at 0x201bf935c70>,\n",
       "  <matplotlib.patches.Wedge at 0x201bf944400>],\n",
       " [Text(0.7949723523462666, 0.7602755809606433, 'Southwest'),\n",
       "  Text(-0.7967552295083369, 0.7584069516104911, 'Southeast'),\n",
       "  Text(-0.7201694244483215, -0.8314782018127556, 'Northwest'),\n",
       "  Text(0.7967551940047443, -0.7584069889092945, 'Northeast')],\n",
       " [Text(0.43362128309796355, 0.4146957714330781, '24.3%'),\n",
       "  Text(-0.4345937615500019, 0.4136765190602678, '27.2%'),\n",
       "  Text(-0.3928196860627208, -0.45353356462513933, '24.3%'),\n",
       "  Text(0.4345937421844059, -0.41367653940506965, '24.2%')])"
      ]
     },
     "execution_count": 17,
     "metadata": {},
     "output_type": "execute_result"
    },
    {
     "data": {
      "image/png": "[encoded data removed]",
      "text/plain": [
       "<Figure size 640x480 with 1 Axes>"
      ]
     },
     "metadata": {},
     "output_type": "display_data"
    }
   ],
   "source": [
    "# setting data for pie chart\n",
    "labels = 'Southwest', 'Southeast', 'Northwest', 'Northeast'\n",
    "sizes = [southwest_patients_amount, southeast_patients_amount, northwest_patients_amount, northeast_patients_amount]\n",
    "\n",
    "fig, ax = plt.subplots()\n",
    "ax.pie(sizes, labels=labels, autopct='%1.1f%%')"
   ]
  },
  {
   "cell_type": "markdown",
   "metadata": {},
   "source": [
    "Comparing percentage values we can see that the least amount of patients are from Northeast, next there are patients from Northwest and Southwest. The most patients are from Southeast - by 2,7%. Based on that information I can say, that the amount of patients per each region is representative."
   ]
  },
  {
   "cell_type": "markdown",
   "metadata": {},
   "source": [
    "## 3. Perform data analysis for medical insurance cost"
   ]
  },
  {
   "cell_type": "markdown",
   "metadata": {},
   "source": [
    "Knowing that our dataset has representative values I can start analyzing it. As a reminder the goal of this project is to check which factor impacts the most of increasing medical insurance cost for patients.\n",
    "In insurance.csv file there are 6 factors that I will check during this analysis:\n",
    "1. Patient's age\n",
    "2. Patient's BMI value\n",
    "3. Patient's amount of children\n",
    "4. Patient's smoking status\n",
    "5. Patient's region"
   ]
  },
  {
   "cell_type": "markdown",
   "metadata": {},
   "source": [
    "The easiest way of checking what factor contributes most strongly to low and/or high medical insurance charges is to perform correlation analysis. To do this I need to load insurance.csv file into a data frame by using pandas library."
   ]
  },
  {
   "cell_type": "code",
   "execution_count": 54,
   "metadata": {},
   "outputs": [],
   "source": [
    "# load csv file into data frame \n",
    "df = pd.read_csv('insurance.csv')"
   ]
  },
  {
   "cell_type": "code",
   "execution_count": 55,
   "metadata": {},
   "outputs": [
    {
     "data": {
      "text/html": [
       "<div>\n",
       "<style scoped>\n",
       "    .dataframe tbody tr th:only-of-type {\n",
       "        vertical-align: middle;\n",
       "    }\n",
       "\n",
       "    .dataframe tbody tr th {\n",
       "        vertical-align: top;\n",
       "    }\n",
       "\n",
       "    .dataframe thead th {\n",
       "        text-align: right;\n",
       "    }\n",
       "</style>\n",
       "<table border=\"1\" class=\"dataframe\">\n",
       "  <thead>\n",
       "    <tr style=\"text-align: right;\">\n",
       "      <th></th>\n",
       "      <th>age</th>\n",
       "      <th>sex</th>\n",
       "      <th>bmi</th>\n",
       "      <th>children</th>\n",
       "      <th>smoker</th>\n",
       "      <th>region</th>\n",
       "      <th>charges</th>\n",
       "    </tr>\n",
       "  </thead>\n",
       "  <tbody>\n",
       "    <tr>\n",
       "      <th>0</th>\n",
       "      <td>19</td>\n",
       "      <td>female</td>\n",
       "      <td>27.900</td>\n",
       "      <td>0</td>\n",
       "      <td>yes</td>\n",
       "      <td>southwest</td>\n",
       "      <td>16884.92400</td>\n",
       "    </tr>\n",
       "    <tr>\n",
       "      <th>1</th>\n",
       "      <td>18</td>\n",
       "      <td>male</td>\n",
       "      <td>33.770</td>\n",
       "      <td>1</td>\n",
       "      <td>no</td>\n",
       "      <td>southeast</td>\n",
       "      <td>1725.55230</td>\n",
       "    </tr>\n",
       "    <tr>\n",
       "      <th>2</th>\n",
       "      <td>28</td>\n",
       "      <td>male</td>\n",
       "      <td>33.000</td>\n",
       "      <td>3</td>\n",
       "      <td>no</td>\n",
       "      <td>southeast</td>\n",
       "      <td>4449.46200</td>\n",
       "    </tr>\n",
       "    <tr>\n",
       "      <th>3</th>\n",
       "      <td>33</td>\n",
       "      <td>male</td>\n",
       "      <td>22.705</td>\n",
       "      <td>0</td>\n",
       "      <td>no</td>\n",
       "      <td>northwest</td>\n",
       "      <td>21984.47061</td>\n",
       "    </tr>\n",
       "    <tr>\n",
       "      <th>4</th>\n",
       "      <td>32</td>\n",
       "      <td>male</td>\n",
       "      <td>28.880</td>\n",
       "      <td>0</td>\n",
       "      <td>no</td>\n",
       "      <td>northwest</td>\n",
       "      <td>3866.85520</td>\n",
       "    </tr>\n",
       "  </tbody>\n",
       "</table>\n",
       "</div>"
      ],
      "text/plain": [
       "   age     sex     bmi  children smoker     region      charges\n",
       "0   19  female  27.900         0    yes  southwest  16884.92400\n",
       "1   18    male  33.770         1     no  southeast   1725.55230\n",
       "2   28    male  33.000         3     no  southeast   4449.46200\n",
       "3   33    male  22.705         0     no  northwest  21984.47061\n",
       "4   32    male  28.880         0     no  northwest   3866.85520"
      ]
     },
     "execution_count": 55,
     "metadata": {},
     "output_type": "execute_result"
    }
   ],
   "source": [
    "# calling head() function to see first rows of dataset\n",
    "df.head()"
   ]
  },
  {
   "cell_type": "markdown",
   "metadata": {},
   "source": [
    "To check correlation I need to convert categorical variables into numerical. Other way they would be omitted by library. There are 3 columns that stores categorical variables - sex, smoker and region.\n",
    "\n",
    "Knowing which columns stores categorical variables, let's see how they will be changed:\n",
    "1. column \"sex\":\n",
    "    - female: 0\n",
    "    - male: 1\n",
    "2. column \"smoker\":\n",
    "    - no: 0\n",
    "    - yes: 1\n",
    "3. column \"region\":\n",
    "    - northeast: 0\n",
    "    - northwest: 1\n",
    "    - southeast: 2\n",
    "    - southwest: 3\n"
   ]
  },
  {
   "cell_type": "code",
   "execution_count": 56,
   "metadata": {},
   "outputs": [],
   "source": [
    "# replacing values\n",
    "df['sex'].replace(['female', 'male'], [0, 1], inplace=True)\n",
    "df['smoker'].replace(['no', 'yes'], [0, 1], inplace=True)\n",
    "df['region'].replace(['northeast', 'northwest', 'southeast', 'southwest'], [0, 1, 2, 3], inplace=True)"
   ]
  },
  {
   "cell_type": "code",
   "execution_count": 57,
   "metadata": {},
   "outputs": [
    {
     "data": {
      "text/html": [
       "<div>\n",
       "<style scoped>\n",
       "    .dataframe tbody tr th:only-of-type {\n",
       "        vertical-align: middle;\n",
       "    }\n",
       "\n",
       "    .dataframe tbody tr th {\n",
       "        vertical-align: top;\n",
       "    }\n",
       "\n",
       "    .dataframe thead th {\n",
       "        text-align: right;\n",
       "    }\n",
       "</style>\n",
       "<table border=\"1\" class=\"dataframe\">\n",
       "  <thead>\n",
       "    <tr style=\"text-align: right;\">\n",
       "      <th></th>\n",
       "      <th>age</th>\n",
       "      <th>sex</th>\n",
       "      <th>bmi</th>\n",
       "      <th>children</th>\n",
       "      <th>smoker</th>\n",
       "      <th>region</th>\n",
       "      <th>charges</th>\n",
       "    </tr>\n",
       "  </thead>\n",
       "  <tbody>\n",
       "    <tr>\n",
       "      <th>0</th>\n",
       "      <td>19</td>\n",
       "      <td>0</td>\n",
       "      <td>27.900</td>\n",
       "      <td>0</td>\n",
       "      <td>1</td>\n",
       "      <td>3</td>\n",
       "      <td>16884.92400</td>\n",
       "    </tr>\n",
       "    <tr>\n",
       "      <th>1</th>\n",
       "      <td>18</td>\n",
       "      <td>1</td>\n",
       "      <td>33.770</td>\n",
       "      <td>1</td>\n",
       "      <td>0</td>\n",
       "      <td>2</td>\n",
       "      <td>1725.55230</td>\n",
       "    </tr>\n",
       "    <tr>\n",
       "      <th>2</th>\n",
       "      <td>28</td>\n",
       "      <td>1</td>\n",
       "      <td>33.000</td>\n",
       "      <td>3</td>\n",
       "      <td>0</td>\n",
       "      <td>2</td>\n",
       "      <td>4449.46200</td>\n",
       "    </tr>\n",
       "    <tr>\n",
       "      <th>3</th>\n",
       "      <td>33</td>\n",
       "      <td>1</td>\n",
       "      <td>22.705</td>\n",
       "      <td>0</td>\n",
       "      <td>0</td>\n",
       "      <td>1</td>\n",
       "      <td>21984.47061</td>\n",
       "    </tr>\n",
       "    <tr>\n",
       "      <th>4</th>\n",
       "      <td>32</td>\n",
       "      <td>1</td>\n",
       "      <td>28.880</td>\n",
       "      <td>0</td>\n",
       "      <td>0</td>\n",
       "      <td>1</td>\n",
       "      <td>3866.85520</td>\n",
       "    </tr>\n",
       "  </tbody>\n",
       "</table>\n",
       "</div>"
      ],
      "text/plain": [
       "   age  sex     bmi  children  smoker  region      charges\n",
       "0   19    0  27.900         0       1       3  16884.92400\n",
       "1   18    1  33.770         1       0       2   1725.55230\n",
       "2   28    1  33.000         3       0       2   4449.46200\n",
       "3   33    1  22.705         0       0       1  21984.47061\n",
       "4   32    1  28.880         0       0       1   3866.85520"
      ]
     },
     "execution_count": 57,
     "metadata": {},
     "output_type": "execute_result"
    }
   ],
   "source": [
    "# call head() function to check if values have been replaced correctly\n",
    "df.head()"
   ]
  },
  {
   "cell_type": "markdown",
   "metadata": {},
   "source": [
    "Now we have all values stored in numerical variables and I can check what is the correlation between those data."
   ]
  },
  {
   "cell_type": "code",
   "execution_count": 58,
   "metadata": {},
   "outputs": [
    {
     "data": {
      "text/html": [
       "<div>\n",
       "<style scoped>\n",
       "    .dataframe tbody tr th:only-of-type {\n",
       "        vertical-align: middle;\n",
       "    }\n",
       "\n",
       "    .dataframe tbody tr th {\n",
       "        vertical-align: top;\n",
       "    }\n",
       "\n",
       "    .dataframe thead th {\n",
       "        text-align: right;\n",
       "    }\n",
       "</style>\n",
       "<table border=\"1\" class=\"dataframe\">\n",
       "  <thead>\n",
       "    <tr style=\"text-align: right;\">\n",
       "      <th></th>\n",
       "      <th>age</th>\n",
       "      <th>sex</th>\n",
       "      <th>bmi</th>\n",
       "      <th>children</th>\n",
       "      <th>smoker</th>\n",
       "      <th>region</th>\n",
       "      <th>charges</th>\n",
       "    </tr>\n",
       "  </thead>\n",
       "  <tbody>\n",
       "    <tr>\n",
       "      <th>age</th>\n",
       "      <td>1.00</td>\n",
       "      <td>-0.02</td>\n",
       "      <td>0.11</td>\n",
       "      <td>0.04</td>\n",
       "      <td>-0.03</td>\n",
       "      <td>0.00</td>\n",
       "      <td>0.30</td>\n",
       "    </tr>\n",
       "    <tr>\n",
       "      <th>sex</th>\n",
       "      <td>-0.02</td>\n",
       "      <td>1.00</td>\n",
       "      <td>0.05</td>\n",
       "      <td>0.02</td>\n",
       "      <td>0.08</td>\n",
       "      <td>0.00</td>\n",
       "      <td>0.06</td>\n",
       "    </tr>\n",
       "    <tr>\n",
       "      <th>bmi</th>\n",
       "      <td>0.11</td>\n",
       "      <td>0.05</td>\n",
       "      <td>1.00</td>\n",
       "      <td>0.01</td>\n",
       "      <td>0.00</td>\n",
       "      <td>0.16</td>\n",
       "      <td>0.20</td>\n",
       "    </tr>\n",
       "    <tr>\n",
       "      <th>children</th>\n",
       "      <td>0.04</td>\n",
       "      <td>0.02</td>\n",
       "      <td>0.01</td>\n",
       "      <td>1.00</td>\n",
       "      <td>0.01</td>\n",
       "      <td>0.02</td>\n",
       "      <td>0.07</td>\n",
       "    </tr>\n",
       "    <tr>\n",
       "      <th>smoker</th>\n",
       "      <td>-0.03</td>\n",
       "      <td>0.08</td>\n",
       "      <td>0.00</td>\n",
       "      <td>0.01</td>\n",
       "      <td>1.00</td>\n",
       "      <td>-0.00</td>\n",
       "      <td>0.79</td>\n",
       "    </tr>\n",
       "    <tr>\n",
       "      <th>region</th>\n",
       "      <td>0.00</td>\n",
       "      <td>0.00</td>\n",
       "      <td>0.16</td>\n",
       "      <td>0.02</td>\n",
       "      <td>-0.00</td>\n",
       "      <td>1.00</td>\n",
       "      <td>-0.01</td>\n",
       "    </tr>\n",
       "    <tr>\n",
       "      <th>charges</th>\n",
       "      <td>0.30</td>\n",
       "      <td>0.06</td>\n",
       "      <td>0.20</td>\n",
       "      <td>0.07</td>\n",
       "      <td>0.79</td>\n",
       "      <td>-0.01</td>\n",
       "      <td>1.00</td>\n",
       "    </tr>\n",
       "  </tbody>\n",
       "</table>\n",
       "</div>"
      ],
      "text/plain": [
       "           age   sex   bmi  children  smoker  region  charges\n",
       "age       1.00 -0.02  0.11      0.04   -0.03    0.00     0.30\n",
       "sex      -0.02  1.00  0.05      0.02    0.08    0.00     0.06\n",
       "bmi       0.11  0.05  1.00      0.01    0.00    0.16     0.20\n",
       "children  0.04  0.02  0.01      1.00    0.01    0.02     0.07\n",
       "smoker   -0.03  0.08  0.00      0.01    1.00   -0.00     0.79\n",
       "region    0.00  0.00  0.16      0.02   -0.00    1.00    -0.01\n",
       "charges   0.30  0.06  0.20      0.07    0.79   -0.01     1.00"
      ]
     },
     "execution_count": 58,
     "metadata": {},
     "output_type": "execute_result"
    }
   ],
   "source": [
    "cormat = df.corr()\n",
    "round(cormat,2)"
   ]
  },
  {
   "cell_type": "markdown",
   "metadata": {},
   "source": [
    "To present above correlation in a nice way I will use plot called 'heatmap' from seaborn library."
   ]
  },
  {
   "cell_type": "code",
   "execution_count": 59,
   "metadata": {},
   "outputs": [
    {
     "data": {
      "text/plain": [
       "<AxesSubplot:>"
      ]
     },
     "execution_count": 59,
     "metadata": {},
     "output_type": "execute_result"
    },
    {
     "data": {
      "image/png": "[encoded data removed]",
      "text/plain": [
       "<Figure size 640x480 with 2 Axes>"
      ]
     },
     "metadata": {},
     "output_type": "display_data"
    }
   ],
   "source": [
    "# load correlated data into plot to visualize the correlation between data\n",
    "sns.heatmap(cormat, annot=True, vmin=-1, vmax=1, center=0, cmap='vlag')"
   ]
  },
  {
   "cell_type": "markdown",
   "metadata": {},
   "source": [
    "The above plot is not ideal. You can see that there are multiple repated values which makes it hard to read. Let's clean this plot by adding mask on it."
   ]
  },
  {
   "cell_type": "code",
   "execution_count": 60,
   "metadata": {},
   "outputs": [
    {
     "data": {
      "text/plain": [
       "array([[ True,  True,  True,  True,  True,  True,  True],\n",
       "       [False,  True,  True,  True,  True,  True,  True],\n",
       "       [False, False,  True,  True,  True,  True,  True],\n",
       "       [False, False, False,  True,  True,  True,  True],\n",
       "       [False, False, False, False,  True,  True,  True],\n",
       "       [False, False, False, False, False,  True,  True],\n",
       "       [False, False, False, False, False, False,  True]])"
      ]
     },
     "execution_count": 60,
     "metadata": {},
     "output_type": "execute_result"
    }
   ],
   "source": [
    "# create mask for heatmap plot\n",
    "matrix = round(cormat, 2)\n",
    "mask = np.triu(np.ones_like(matrix, dtype = bool))\n",
    "mask"
   ]
  },
  {
   "cell_type": "code",
   "execution_count": 61,
   "metadata": {},
   "outputs": [
    {
     "data": {
      "text/plain": [
       "<AxesSubplot:>"
      ]
     },
     "execution_count": 61,
     "metadata": {},
     "output_type": "execute_result"
    },
    {
     "data": {
      "image/png": "[encoded data removed]",
      "text/plain": [
       "<Figure size 640x480 with 2 Axes>"
      ]
     },
     "metadata": {},
     "output_type": "display_data"
    }
   ],
   "source": [
    "# load again correlated data into plot and use mask to eliminate duplicated values\n",
    "sns.heatmap(matrix, annot=True, vmin=-1, vmax=1, center=0, cmap='vlag', mask=mask)"
   ]
  },
  {
   "cell_type": "markdown",
   "metadata": {},
   "source": [
    "Above plot gives us very important information. It shows that smoking status impacts the most of how high the medical insurance cost is. The correlation between smoker and charges variables are very strong.\n",
    "The next factor is age, but on the color of the chart we can see that the correlation is not so strong as it is with smoking status. After age there is BMI but comparing it to smkoking status the BMI values is 4 times less important for medical insurance companies.\n",
    "\n",
    "Now let's check at least affects the cost of medical insurance. The first thing is region with negative correlation value. Then we have sex and amount of children. \n",
    "\n",
    "Since we know what has the greatest impact on the increased annual costs of medical insurance the last thing I would like to check is the average cost of medical insurance for smoking and non-smkoking patients."
   ]
  },
  {
   "cell_type": "code",
   "execution_count": 62,
   "metadata": {},
   "outputs": [],
   "source": [
    "# calculate average insurance cost for all patients from dataset\n",
    "def get_average_insurance_cost():\n",
    "    total_costs = 0\n",
    "    for cost in insurance_costs:\n",
    "        total_costs += cost\n",
    "    return round(total_costs/len(ages), 2)"
   ]
  },
  {
   "cell_type": "code",
   "execution_count": 63,
   "metadata": {},
   "outputs": [
    {
     "name": "stdout",
     "output_type": "stream",
     "text": [
      "The average insurance cost for U.S. patient per year is: 13270.42 dollars.\n"
     ]
    }
   ],
   "source": [
    "average_insurance_cost = get_average_insurance_cost()\n",
    "print(\"The average insurance cost for U.S. patient per year is: \" + str(average_insurance_cost) + \" dollars.\")"
   ]
  },
  {
   "cell_type": "code",
   "execution_count": 72,
   "metadata": {},
   "outputs": [],
   "source": [
    "# calculate average insurance cost by smoking status\n",
    "def get_average_insurance_cost_per_smoker_status():\n",
    "    smokers = 0\n",
    "    smokers_insurance_costs = 0\n",
    "    non_smokers = 0\n",
    "    non_smokers_insurance_costs = 0\n",
    "    with open('insurance.csv') as csv_file:\n",
    "        file_dict = csv.DictReader(csv_file)\n",
    "        for row in file_dict:\n",
    "            if row['smoker'] == 'yes':\n",
    "                smokers += 1\n",
    "                smokers_insurance_costs += float(row['charges'])\n",
    "            else:\n",
    "                non_smokers += 1\n",
    "                non_smokers_insurance_costs += float(row['charges'])\n",
    "    smoker_average_insurance_cost = round(smokers_insurance_costs/smokers, 2)\n",
    "    non_smoker_average_insurance_cost = round(non_smokers_insurance_costs/non_smokers, 2)\n",
    "    insurance_costs_diff = smoker_average_insurance_cost - non_smoker_average_insurance_cost\n",
    "    print(\"Average insurance cost of smokers: \" + str(smoker_average_insurance_cost))\n",
    "    print(\"Average insurance cost of non-smokers: \" + str(non_smoker_average_insurance_cost))\n",
    "    print(\"The difference between insurance costs for smokers and non-smokers is: \" + str(insurance_costs_diff))"
   ]
  },
  {
   "cell_type": "code",
   "execution_count": 73,
   "metadata": {},
   "outputs": [
    {
     "name": "stdout",
     "output_type": "stream",
     "text": [
      "Average insurance cost of smokers: 32050.23\n",
      "Average insurance cost of non-smokers: 8434.27\n",
      "The difference between insurance costs for smokers and non-smokers is: 23615.96\n"
     ]
    }
   ],
   "source": [
    "get_average_insurance_cost_per_smoker_status()"
   ]
  },
  {
   "cell_type": "markdown",
   "metadata": {},
   "source": [
    "We can see that the average insurance costs for all patients is 13270.42 while the average insurance costs for smoking patients is 32050.23. It's 2,4 times more per year. "
   ]
  },
  {
   "cell_type": "markdown",
   "metadata": {},
   "source": [
    "## 4. Conclusion"
   ]
  },
  {
   "cell_type": "markdown",
   "metadata": {},
   "source": [
    "The conducted data analysis proves that taking care of yourself is an important factor taken into account when calculating the cost of medical insurance in United States. Especially when it comes to smoking, which affects the annual medical insurance costs the most. I must admit that it's understandable.\n",
    "\n",
    "According to WHO \"Tobacco kills more than 8 million people each year\". \n",
    "\n",
    "Additionally on the CDC's website (Centers for Disease Control and Prevention - one of the major operating components of the Department of Health and Human Services in America) we can read that:\n",
    "\"Smoking leads to disease and disability and harms nearly every organ of the body.\n",
    "More than 16 million Americans are living with a disease caused by smoking. For every person who dies because of smoking, at least 30 people live with a serious smoking-related illness. Smoking causes cancer, heart disease, stroke, lung diseases, diabetes, and chronic obstructive pulmonary disease (COPD), which includes emphysema and chronic bronchitis. Smoking also increases risk for tuberculosis, certain eye diseases, and problems of the immune system, including rheumatoid arthritis.\"\n"
   ]
  }
 ],
 "metadata": {
  "kernelspec": {
   "display_name": "Python 3 (ipykernel)",
   "language": "python",
   "name": "python3"
  },
  "language_info": {
   "codemirror_mode": {
    "name": "ipython",
    "version": 3
   },
   "file_extension": ".py",
   "mimetype": "text/x-python",
   "name": "python",
   "nbconvert_exporter": "python",
   "pygments_lexer": "ipython3",
   "version": "3.9.13"
  }
 },
 "nbformat": 4,
 "nbformat_minor": 4
}
